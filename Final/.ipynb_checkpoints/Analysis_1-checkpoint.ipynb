{
 "cells": [
  {
   "cell_type": "markdown",
   "metadata": {},
   "source": [
    "# Weapons used VS Gender!\n"
   ]
  },
  {
   "cell_type": "code",
   "execution_count": 1,
   "metadata": {
    "collapsed": true
   },
   "outputs": [],
   "source": [
    "import os\n",
    "from os import listdir\n",
    "from os.path import isfile, join\n",
    "import glob\n",
    "import string\n",
    "import operator\n",
    "import csv\n",
    "import pandas as pd\n",
    "import calendar\n",
    "%matplotlib inline\n",
    "import seaborn as sns\n",
    "import matplotlib.pyplot as plt"
   ]
  },
  {
   "cell_type": "code",
   "execution_count": 2,
   "metadata": {
    "collapsed": false
   },
   "outputs": [
    {
     "name": "stdout",
     "output_type": "stream",
     "text": [
      "C:\\Users\\priya\\Final\\Data\n"
     ]
    }
   ],
   "source": [
    "homedir = os.path.expanduser(\"~\")\n",
    "path_to_data = homedir+\"\\\\Final\\\\Data\"\n",
    "print(path_to_data)"
   ]
  },
  {
   "cell_type": "code",
   "execution_count": 3,
   "metadata": {
    "collapsed": false
   },
   "outputs": [
    {
     "name": "stderr",
     "output_type": "stream",
     "text": [
      "C:\\Users\\priya\\Anaconda3\\lib\\site-packages\\IPython\\core\\interactiveshell.py:2717: DtypeWarning: Columns (16) have mixed types. Specify dtype option on import or set low_memory=False.\n",
      "  interactivity=interactivity, compiler=compiler, result=result)\n"
     ]
    },
    {
     "data": {
      "text/html": [
       "<div>\n",
       "<table border=\"1\" class=\"dataframe\">\n",
       "  <thead>\n",
       "    <tr style=\"text-align: right;\">\n",
       "      <th></th>\n",
       "      <th>Record ID</th>\n",
       "      <th>Agency Code</th>\n",
       "      <th>Agency Name</th>\n",
       "      <th>Agency Type</th>\n",
       "      <th>City</th>\n",
       "      <th>State</th>\n",
       "      <th>Year</th>\n",
       "      <th>Month</th>\n",
       "      <th>Incident</th>\n",
       "      <th>Crime Type</th>\n",
       "      <th>...</th>\n",
       "      <th>Victim Ethnicity</th>\n",
       "      <th>Perpetrator Sex</th>\n",
       "      <th>Perpetrator Age</th>\n",
       "      <th>Perpetrator Race</th>\n",
       "      <th>Perpetrator Ethnicity</th>\n",
       "      <th>Relationship</th>\n",
       "      <th>Weapon</th>\n",
       "      <th>Victim Count</th>\n",
       "      <th>Perpetrator Count</th>\n",
       "      <th>Record Source</th>\n",
       "    </tr>\n",
       "  </thead>\n",
       "  <tbody>\n",
       "    <tr>\n",
       "      <th>0</th>\n",
       "      <td>1</td>\n",
       "      <td>AK00101</td>\n",
       "      <td>Anchorage</td>\n",
       "      <td>Municipal Police</td>\n",
       "      <td>Anchorage</td>\n",
       "      <td>Alaska</td>\n",
       "      <td>1980</td>\n",
       "      <td>January</td>\n",
       "      <td>1</td>\n",
       "      <td>Murder or Manslaughter</td>\n",
       "      <td>...</td>\n",
       "      <td>Unknown</td>\n",
       "      <td>Male</td>\n",
       "      <td>15</td>\n",
       "      <td>Native American/Alaska Native</td>\n",
       "      <td>Unknown</td>\n",
       "      <td>Acquaintance</td>\n",
       "      <td>Blunt Object</td>\n",
       "      <td>0</td>\n",
       "      <td>0</td>\n",
       "      <td>FBI</td>\n",
       "    </tr>\n",
       "    <tr>\n",
       "      <th>1</th>\n",
       "      <td>2</td>\n",
       "      <td>AK00101</td>\n",
       "      <td>Anchorage</td>\n",
       "      <td>Municipal Police</td>\n",
       "      <td>Anchorage</td>\n",
       "      <td>Alaska</td>\n",
       "      <td>1980</td>\n",
       "      <td>March</td>\n",
       "      <td>1</td>\n",
       "      <td>Murder or Manslaughter</td>\n",
       "      <td>...</td>\n",
       "      <td>Unknown</td>\n",
       "      <td>Male</td>\n",
       "      <td>42</td>\n",
       "      <td>White</td>\n",
       "      <td>Unknown</td>\n",
       "      <td>Acquaintance</td>\n",
       "      <td>Strangulation</td>\n",
       "      <td>0</td>\n",
       "      <td>0</td>\n",
       "      <td>FBI</td>\n",
       "    </tr>\n",
       "    <tr>\n",
       "      <th>2</th>\n",
       "      <td>3</td>\n",
       "      <td>AK00101</td>\n",
       "      <td>Anchorage</td>\n",
       "      <td>Municipal Police</td>\n",
       "      <td>Anchorage</td>\n",
       "      <td>Alaska</td>\n",
       "      <td>1980</td>\n",
       "      <td>March</td>\n",
       "      <td>2</td>\n",
       "      <td>Murder or Manslaughter</td>\n",
       "      <td>...</td>\n",
       "      <td>Unknown</td>\n",
       "      <td>Unknown</td>\n",
       "      <td>0</td>\n",
       "      <td>Unknown</td>\n",
       "      <td>Unknown</td>\n",
       "      <td>Unknown</td>\n",
       "      <td>Unknown</td>\n",
       "      <td>0</td>\n",
       "      <td>0</td>\n",
       "      <td>FBI</td>\n",
       "    </tr>\n",
       "    <tr>\n",
       "      <th>3</th>\n",
       "      <td>4</td>\n",
       "      <td>AK00101</td>\n",
       "      <td>Anchorage</td>\n",
       "      <td>Municipal Police</td>\n",
       "      <td>Anchorage</td>\n",
       "      <td>Alaska</td>\n",
       "      <td>1980</td>\n",
       "      <td>April</td>\n",
       "      <td>1</td>\n",
       "      <td>Murder or Manslaughter</td>\n",
       "      <td>...</td>\n",
       "      <td>Unknown</td>\n",
       "      <td>Male</td>\n",
       "      <td>42</td>\n",
       "      <td>White</td>\n",
       "      <td>Unknown</td>\n",
       "      <td>Acquaintance</td>\n",
       "      <td>Strangulation</td>\n",
       "      <td>0</td>\n",
       "      <td>0</td>\n",
       "      <td>FBI</td>\n",
       "    </tr>\n",
       "    <tr>\n",
       "      <th>4</th>\n",
       "      <td>5</td>\n",
       "      <td>AK00101</td>\n",
       "      <td>Anchorage</td>\n",
       "      <td>Municipal Police</td>\n",
       "      <td>Anchorage</td>\n",
       "      <td>Alaska</td>\n",
       "      <td>1980</td>\n",
       "      <td>April</td>\n",
       "      <td>2</td>\n",
       "      <td>Murder or Manslaughter</td>\n",
       "      <td>...</td>\n",
       "      <td>Unknown</td>\n",
       "      <td>Unknown</td>\n",
       "      <td>0</td>\n",
       "      <td>Unknown</td>\n",
       "      <td>Unknown</td>\n",
       "      <td>Unknown</td>\n",
       "      <td>Unknown</td>\n",
       "      <td>0</td>\n",
       "      <td>1</td>\n",
       "      <td>FBI</td>\n",
       "    </tr>\n",
       "  </tbody>\n",
       "</table>\n",
       "<p>5 rows × 24 columns</p>\n",
       "</div>"
      ],
      "text/plain": [
       "   Record ID Agency Code Agency Name       Agency Type       City   State  \\\n",
       "0          1     AK00101   Anchorage  Municipal Police  Anchorage  Alaska   \n",
       "1          2     AK00101   Anchorage  Municipal Police  Anchorage  Alaska   \n",
       "2          3     AK00101   Anchorage  Municipal Police  Anchorage  Alaska   \n",
       "3          4     AK00101   Anchorage  Municipal Police  Anchorage  Alaska   \n",
       "4          5     AK00101   Anchorage  Municipal Police  Anchorage  Alaska   \n",
       "\n",
       "   Year    Month  Incident              Crime Type      ...       \\\n",
       "0  1980  January         1  Murder or Manslaughter      ...        \n",
       "1  1980    March         1  Murder or Manslaughter      ...        \n",
       "2  1980    March         2  Murder or Manslaughter      ...        \n",
       "3  1980    April         1  Murder or Manslaughter      ...        \n",
       "4  1980    April         2  Murder or Manslaughter      ...        \n",
       "\n",
       "  Victim Ethnicity Perpetrator Sex  Perpetrator Age  \\\n",
       "0          Unknown            Male               15   \n",
       "1          Unknown            Male               42   \n",
       "2          Unknown         Unknown                0   \n",
       "3          Unknown            Male               42   \n",
       "4          Unknown         Unknown                0   \n",
       "\n",
       "                Perpetrator Race Perpetrator Ethnicity  Relationship  \\\n",
       "0  Native American/Alaska Native               Unknown  Acquaintance   \n",
       "1                          White               Unknown  Acquaintance   \n",
       "2                        Unknown               Unknown       Unknown   \n",
       "3                          White               Unknown  Acquaintance   \n",
       "4                        Unknown               Unknown       Unknown   \n",
       "\n",
       "          Weapon Victim Count Perpetrator Count Record Source  \n",
       "0   Blunt Object            0                 0           FBI  \n",
       "1  Strangulation            0                 0           FBI  \n",
       "2        Unknown            0                 0           FBI  \n",
       "3  Strangulation            0                 0           FBI  \n",
       "4        Unknown            0                 1           FBI  \n",
       "\n",
       "[5 rows x 24 columns]"
      ]
     },
     "execution_count": 3,
     "metadata": {},
     "output_type": "execute_result"
    }
   ],
   "source": [
    "for subdir,dirs, files in os.walk(path_to_data):\n",
    "    #print(files)\n",
    "    for file in files:\n",
    "        if file == 'database.csv':\n",
    "            #print(file)\n",
    "            csv_data1=pd.read_csv(os.path.join(subdir,file))\n",
    "        if file == 'nics-firearm-background-checks.csv':\n",
    "            csv_data2=pd.read_csv(os.path.join(subdir,file))\n",
    "csv_data1.head(5)"
   ]
  },
  {
   "cell_type": "code",
   "execution_count": 4,
   "metadata": {
    "collapsed": false
   },
   "outputs": [
    {
     "data": {
      "text/html": [
       "<div>\n",
       "<table border=\"1\" class=\"dataframe\">\n",
       "  <thead>\n",
       "    <tr style=\"text-align: right;\">\n",
       "      <th></th>\n",
       "      <th>Crime Type</th>\n",
       "      <th>Crime Solved</th>\n",
       "      <th>Victim Sex</th>\n",
       "      <th>Victim Age</th>\n",
       "      <th>Victim Race</th>\n",
       "      <th>Perpetrator Sex</th>\n",
       "      <th>Perpetrator Age</th>\n",
       "      <th>Perpetrator Race</th>\n",
       "      <th>Relationship</th>\n",
       "      <th>Weapon</th>\n",
       "    </tr>\n",
       "  </thead>\n",
       "  <tbody>\n",
       "    <tr>\n",
       "      <th>0</th>\n",
       "      <td>Murder or Manslaughter</td>\n",
       "      <td>Yes</td>\n",
       "      <td>Male</td>\n",
       "      <td>14</td>\n",
       "      <td>Native American/Alaska Native</td>\n",
       "      <td>Male</td>\n",
       "      <td>15</td>\n",
       "      <td>Native American/Alaska Native</td>\n",
       "      <td>Acquaintance</td>\n",
       "      <td>Blunt Object</td>\n",
       "    </tr>\n",
       "    <tr>\n",
       "      <th>1</th>\n",
       "      <td>Murder or Manslaughter</td>\n",
       "      <td>Yes</td>\n",
       "      <td>Male</td>\n",
       "      <td>43</td>\n",
       "      <td>White</td>\n",
       "      <td>Male</td>\n",
       "      <td>42</td>\n",
       "      <td>White</td>\n",
       "      <td>Acquaintance</td>\n",
       "      <td>Strangulation</td>\n",
       "    </tr>\n",
       "    <tr>\n",
       "      <th>2</th>\n",
       "      <td>Murder or Manslaughter</td>\n",
       "      <td>No</td>\n",
       "      <td>Female</td>\n",
       "      <td>30</td>\n",
       "      <td>Native American/Alaska Native</td>\n",
       "      <td>Unknown</td>\n",
       "      <td>0</td>\n",
       "      <td>Unknown</td>\n",
       "      <td>Unknown</td>\n",
       "      <td>Unknown</td>\n",
       "    </tr>\n",
       "  </tbody>\n",
       "</table>\n",
       "</div>"
      ],
      "text/plain": [
       "               Crime Type Crime Solved Victim Sex  Victim Age  \\\n",
       "0  Murder or Manslaughter          Yes       Male          14   \n",
       "1  Murder or Manslaughter          Yes       Male          43   \n",
       "2  Murder or Manslaughter           No     Female          30   \n",
       "\n",
       "                     Victim Race Perpetrator Sex Perpetrator Age  \\\n",
       "0  Native American/Alaska Native            Male              15   \n",
       "1                          White            Male              42   \n",
       "2  Native American/Alaska Native         Unknown               0   \n",
       "\n",
       "                Perpetrator Race  Relationship         Weapon  \n",
       "0  Native American/Alaska Native  Acquaintance   Blunt Object  \n",
       "1                          White  Acquaintance  Strangulation  \n",
       "2                        Unknown       Unknown        Unknown  "
      ]
     },
     "execution_count": 4,
     "metadata": {},
     "output_type": "execute_result"
    }
   ],
   "source": [
    "new_df = csv_data1[[\"Crime Type\",\"Crime Solved\",\"Victim Sex\",\"Victim Age\",\"Victim Race\",\"Perpetrator Sex\",\"Perpetrator Age\",\"Perpetrator Race\",\"Relationship\",\"Weapon\"]].copy()\n",
    "new_df.head(3)"
   ]
  },
  {
   "cell_type": "code",
   "execution_count": 5,
   "metadata": {
    "collapsed": false
   },
   "outputs": [
    {
     "data": {
      "text/html": [
       "<div>\n",
       "<table border=\"1\" class=\"dataframe\">\n",
       "  <thead>\n",
       "    <tr style=\"text-align: right;\">\n",
       "      <th></th>\n",
       "      <th>Crime Type</th>\n",
       "      <th>Crime Solved</th>\n",
       "      <th>Victim Sex</th>\n",
       "      <th>Victim Age</th>\n",
       "      <th>Victim Race</th>\n",
       "      <th>Perpetrator Sex</th>\n",
       "      <th>Perpetrator Age</th>\n",
       "      <th>Perpetrator Race</th>\n",
       "      <th>Relationship</th>\n",
       "      <th>Weapon</th>\n",
       "    </tr>\n",
       "  </thead>\n",
       "  <tbody>\n",
       "    <tr>\n",
       "      <th>0</th>\n",
       "      <td>Murder or Manslaughter</td>\n",
       "      <td>Yes</td>\n",
       "      <td>Male</td>\n",
       "      <td>14</td>\n",
       "      <td>Native American/Alaska Native</td>\n",
       "      <td>Male</td>\n",
       "      <td>15</td>\n",
       "      <td>Native American/Alaska Native</td>\n",
       "      <td>Acquaintance</td>\n",
       "      <td>Blunt Object</td>\n",
       "    </tr>\n",
       "    <tr>\n",
       "      <th>1</th>\n",
       "      <td>Murder or Manslaughter</td>\n",
       "      <td>Yes</td>\n",
       "      <td>Male</td>\n",
       "      <td>43</td>\n",
       "      <td>White</td>\n",
       "      <td>Male</td>\n",
       "      <td>42</td>\n",
       "      <td>White</td>\n",
       "      <td>Acquaintance</td>\n",
       "      <td>Strangulation</td>\n",
       "    </tr>\n",
       "    <tr>\n",
       "      <th>3</th>\n",
       "      <td>Murder or Manslaughter</td>\n",
       "      <td>Yes</td>\n",
       "      <td>Male</td>\n",
       "      <td>43</td>\n",
       "      <td>White</td>\n",
       "      <td>Male</td>\n",
       "      <td>42</td>\n",
       "      <td>White</td>\n",
       "      <td>Acquaintance</td>\n",
       "      <td>Strangulation</td>\n",
       "    </tr>\n",
       "    <tr>\n",
       "      <th>5</th>\n",
       "      <td>Murder or Manslaughter</td>\n",
       "      <td>Yes</td>\n",
       "      <td>Male</td>\n",
       "      <td>30</td>\n",
       "      <td>White</td>\n",
       "      <td>Male</td>\n",
       "      <td>36</td>\n",
       "      <td>White</td>\n",
       "      <td>Acquaintance</td>\n",
       "      <td>Rifle</td>\n",
       "    </tr>\n",
       "    <tr>\n",
       "      <th>6</th>\n",
       "      <td>Murder or Manslaughter</td>\n",
       "      <td>Yes</td>\n",
       "      <td>Female</td>\n",
       "      <td>42</td>\n",
       "      <td>Native American/Alaska Native</td>\n",
       "      <td>Male</td>\n",
       "      <td>27</td>\n",
       "      <td>Black</td>\n",
       "      <td>Wife</td>\n",
       "      <td>Knife</td>\n",
       "    </tr>\n",
       "  </tbody>\n",
       "</table>\n",
       "</div>"
      ],
      "text/plain": [
       "               Crime Type Crime Solved Victim Sex  Victim Age  \\\n",
       "0  Murder or Manslaughter          Yes       Male          14   \n",
       "1  Murder or Manslaughter          Yes       Male          43   \n",
       "3  Murder or Manslaughter          Yes       Male          43   \n",
       "5  Murder or Manslaughter          Yes       Male          30   \n",
       "6  Murder or Manslaughter          Yes     Female          42   \n",
       "\n",
       "                     Victim Race Perpetrator Sex Perpetrator Age  \\\n",
       "0  Native American/Alaska Native            Male              15   \n",
       "1                          White            Male              42   \n",
       "3                          White            Male              42   \n",
       "5                          White            Male              36   \n",
       "6  Native American/Alaska Native            Male              27   \n",
       "\n",
       "                Perpetrator Race  Relationship         Weapon  \n",
       "0  Native American/Alaska Native  Acquaintance   Blunt Object  \n",
       "1                          White  Acquaintance  Strangulation  \n",
       "3                          White  Acquaintance  Strangulation  \n",
       "5                          White  Acquaintance          Rifle  \n",
       "6                          Black          Wife          Knife  "
      ]
     },
     "execution_count": 5,
     "metadata": {},
     "output_type": "execute_result"
    }
   ],
   "source": [
    "new_dataframe = pd.DataFrame(new_df[(new_df[\"Crime Solved\"] == 'Yes')])\n",
    "new_dataframe.head(5)"
   ]
  },
  {
   "cell_type": "code",
   "execution_count": 6,
   "metadata": {
    "collapsed": false
   },
   "outputs": [
    {
     "data": {
      "text/html": [
       "<div>\n",
       "<table border=\"1\" class=\"dataframe\">\n",
       "  <thead>\n",
       "    <tr style=\"text-align: right;\">\n",
       "      <th></th>\n",
       "      <th>Crime Type</th>\n",
       "      <th>Crime Solved</th>\n",
       "      <th>Victim Sex</th>\n",
       "      <th>Victim Age</th>\n",
       "      <th>Victim Race</th>\n",
       "      <th>Perpetrator Sex</th>\n",
       "      <th>Perpetrator Age</th>\n",
       "      <th>Perpetrator Race</th>\n",
       "      <th>Relationship</th>\n",
       "      <th>Weapon</th>\n",
       "    </tr>\n",
       "  </thead>\n",
       "  <tbody>\n",
       "    <tr>\n",
       "      <th>0</th>\n",
       "      <td>Murder or Manslaughter</td>\n",
       "      <td>Yes</td>\n",
       "      <td>Male</td>\n",
       "      <td>14</td>\n",
       "      <td>Native American/Alaska Native</td>\n",
       "      <td>Male</td>\n",
       "      <td>15</td>\n",
       "      <td>Native American/Alaska Native</td>\n",
       "      <td>Acquaintance</td>\n",
       "      <td>Blunt Object</td>\n",
       "    </tr>\n",
       "    <tr>\n",
       "      <th>1</th>\n",
       "      <td>Murder or Manslaughter</td>\n",
       "      <td>Yes</td>\n",
       "      <td>Male</td>\n",
       "      <td>43</td>\n",
       "      <td>White</td>\n",
       "      <td>Male</td>\n",
       "      <td>42</td>\n",
       "      <td>White</td>\n",
       "      <td>Acquaintance</td>\n",
       "      <td>Strangulation</td>\n",
       "    </tr>\n",
       "    <tr>\n",
       "      <th>3</th>\n",
       "      <td>Murder or Manslaughter</td>\n",
       "      <td>Yes</td>\n",
       "      <td>Male</td>\n",
       "      <td>43</td>\n",
       "      <td>White</td>\n",
       "      <td>Male</td>\n",
       "      <td>42</td>\n",
       "      <td>White</td>\n",
       "      <td>Acquaintance</td>\n",
       "      <td>Strangulation</td>\n",
       "    </tr>\n",
       "    <tr>\n",
       "      <th>5</th>\n",
       "      <td>Murder or Manslaughter</td>\n",
       "      <td>Yes</td>\n",
       "      <td>Male</td>\n",
       "      <td>30</td>\n",
       "      <td>White</td>\n",
       "      <td>Male</td>\n",
       "      <td>36</td>\n",
       "      <td>White</td>\n",
       "      <td>Acquaintance</td>\n",
       "      <td>Rifle</td>\n",
       "    </tr>\n",
       "    <tr>\n",
       "      <th>6</th>\n",
       "      <td>Murder or Manslaughter</td>\n",
       "      <td>Yes</td>\n",
       "      <td>Female</td>\n",
       "      <td>42</td>\n",
       "      <td>Native American/Alaska Native</td>\n",
       "      <td>Male</td>\n",
       "      <td>27</td>\n",
       "      <td>Black</td>\n",
       "      <td>Wife</td>\n",
       "      <td>Knife</td>\n",
       "    </tr>\n",
       "  </tbody>\n",
       "</table>\n",
       "</div>"
      ],
      "text/plain": [
       "               Crime Type Crime Solved Victim Sex  Victim Age  \\\n",
       "0  Murder or Manslaughter          Yes       Male          14   \n",
       "1  Murder or Manslaughter          Yes       Male          43   \n",
       "3  Murder or Manslaughter          Yes       Male          43   \n",
       "5  Murder or Manslaughter          Yes       Male          30   \n",
       "6  Murder or Manslaughter          Yes     Female          42   \n",
       "\n",
       "                     Victim Race Perpetrator Sex Perpetrator Age  \\\n",
       "0  Native American/Alaska Native            Male              15   \n",
       "1                          White            Male              42   \n",
       "3                          White            Male              42   \n",
       "5                          White            Male              36   \n",
       "6  Native American/Alaska Native            Male              27   \n",
       "\n",
       "                Perpetrator Race  Relationship         Weapon  \n",
       "0  Native American/Alaska Native  Acquaintance   Blunt Object  \n",
       "1                          White  Acquaintance  Strangulation  \n",
       "3                          White  Acquaintance  Strangulation  \n",
       "5                          White  Acquaintance          Rifle  \n",
       "6                          Black          Wife          Knife  "
      ]
     },
     "execution_count": 6,
     "metadata": {},
     "output_type": "execute_result"
    }
   ],
   "source": [
    "new_dataframe = new_dataframe[(new_dataframe['Weapon'] != 'Unknown') & (new_dataframe['Victim Sex'] != 'Unknown') & (new_dataframe['Perpetrator Sex'] != 'Unknown')]\n",
    "new_dataframe.head(5)"
   ]
  },
  {
   "cell_type": "code",
   "execution_count": 7,
   "metadata": {
    "collapsed": false
   },
   "outputs": [
    {
     "name": "stderr",
     "output_type": "stream",
     "text": [
      "C:\\Users\\priya\\Anaconda3\\lib\\site-packages\\ipykernel\\__main__.py:2: FutureWarning: order is deprecated, use sort_values(...)\n",
      "  from ipykernel import kernelapp as app\n"
     ]
    },
    {
     "data": {
      "text/html": [
       "<div>\n",
       "<table border=\"1\" class=\"dataframe\">\n",
       "  <thead>\n",
       "    <tr style=\"text-align: right;\">\n",
       "      <th></th>\n",
       "      <th>Weapon</th>\n",
       "      <th>number of incidents</th>\n",
       "    </tr>\n",
       "  </thead>\n",
       "  <tbody>\n",
       "    <tr>\n",
       "      <th>0</th>\n",
       "      <td>Handgun</td>\n",
       "      <td>216775</td>\n",
       "    </tr>\n",
       "    <tr>\n",
       "      <th>1</th>\n",
       "      <td>Knife</td>\n",
       "      <td>74733</td>\n",
       "    </tr>\n",
       "    <tr>\n",
       "      <th>2</th>\n",
       "      <td>Blunt Object</td>\n",
       "      <td>51462</td>\n",
       "    </tr>\n",
       "    <tr>\n",
       "      <th>3</th>\n",
       "      <td>Shotgun</td>\n",
       "      <td>26032</td>\n",
       "    </tr>\n",
       "    <tr>\n",
       "      <th>4</th>\n",
       "      <td>Firearm</td>\n",
       "      <td>24323</td>\n",
       "    </tr>\n",
       "    <tr>\n",
       "      <th>5</th>\n",
       "      <td>Rifle</td>\n",
       "      <td>19929</td>\n",
       "    </tr>\n",
       "    <tr>\n",
       "      <th>6</th>\n",
       "      <td>Strangulation</td>\n",
       "      <td>4409</td>\n",
       "    </tr>\n",
       "    <tr>\n",
       "      <th>7</th>\n",
       "      <td>Fire</td>\n",
       "      <td>4126</td>\n",
       "    </tr>\n",
       "    <tr>\n",
       "      <th>8</th>\n",
       "      <td>Suffocation</td>\n",
       "      <td>2977</td>\n",
       "    </tr>\n",
       "    <tr>\n",
       "      <th>9</th>\n",
       "      <td>Drugs</td>\n",
       "      <td>1389</td>\n",
       "    </tr>\n",
       "    <tr>\n",
       "      <th>10</th>\n",
       "      <td>Gun</td>\n",
       "      <td>1322</td>\n",
       "    </tr>\n",
       "    <tr>\n",
       "      <th>11</th>\n",
       "      <td>Drowning</td>\n",
       "      <td>999</td>\n",
       "    </tr>\n",
       "    <tr>\n",
       "      <th>12</th>\n",
       "      <td>Explosives</td>\n",
       "      <td>388</td>\n",
       "    </tr>\n",
       "    <tr>\n",
       "      <th>13</th>\n",
       "      <td>Poison</td>\n",
       "      <td>375</td>\n",
       "    </tr>\n",
       "    <tr>\n",
       "      <th>14</th>\n",
       "      <td>Fall</td>\n",
       "      <td>166</td>\n",
       "    </tr>\n",
       "  </tbody>\n",
       "</table>\n",
       "</div>"
      ],
      "text/plain": [
       "           Weapon  number of incidents\n",
       "0         Handgun               216775\n",
       "1           Knife                74733\n",
       "2    Blunt Object                51462\n",
       "3         Shotgun                26032\n",
       "4         Firearm                24323\n",
       "5           Rifle                19929\n",
       "6   Strangulation                 4409\n",
       "7            Fire                 4126\n",
       "8     Suffocation                 2977\n",
       "9           Drugs                 1389\n",
       "10            Gun                 1322\n",
       "11       Drowning                  999\n",
       "12     Explosives                  388\n",
       "13         Poison                  375\n",
       "14           Fall                  166"
      ]
     },
     "execution_count": 7,
     "metadata": {},
     "output_type": "execute_result"
    }
   ],
   "source": [
    "weapon_count_df = new_dataframe[['Weapon']].copy()\n",
    "weapon_count_df = weapon_count_df[(weapon_count_df.Weapon != \"Unknown\")].groupby(['Weapon']).size().order(ascending=False).to_frame(name = 'number of incidents').reset_index()\n",
    "weapon_count_df.head(20)"
   ]
  },
  {
   "cell_type": "code",
   "execution_count": 8,
   "metadata": {
    "collapsed": false
   },
   "outputs": [
    {
     "data": {
      "text/html": [
       "<div>\n",
       "<table border=\"1\" class=\"dataframe\">\n",
       "  <thead>\n",
       "    <tr style=\"text-align: right;\">\n",
       "      <th></th>\n",
       "      <th>Weapon</th>\n",
       "      <th>Victim Sex</th>\n",
       "      <th>Perpetrator Sex</th>\n",
       "    </tr>\n",
       "  </thead>\n",
       "  <tbody>\n",
       "    <tr>\n",
       "      <th>0</th>\n",
       "      <td>Blunt Object</td>\n",
       "      <td>Male</td>\n",
       "      <td>Male</td>\n",
       "    </tr>\n",
       "    <tr>\n",
       "      <th>1</th>\n",
       "      <td>Strangulation</td>\n",
       "      <td>Male</td>\n",
       "      <td>Male</td>\n",
       "    </tr>\n",
       "    <tr>\n",
       "      <th>3</th>\n",
       "      <td>Strangulation</td>\n",
       "      <td>Male</td>\n",
       "      <td>Male</td>\n",
       "    </tr>\n",
       "    <tr>\n",
       "      <th>5</th>\n",
       "      <td>Rifle</td>\n",
       "      <td>Male</td>\n",
       "      <td>Male</td>\n",
       "    </tr>\n",
       "    <tr>\n",
       "      <th>6</th>\n",
       "      <td>Knife</td>\n",
       "      <td>Female</td>\n",
       "      <td>Male</td>\n",
       "    </tr>\n",
       "  </tbody>\n",
       "</table>\n",
       "</div>"
      ],
      "text/plain": [
       "          Weapon Victim Sex Perpetrator Sex\n",
       "0   Blunt Object       Male            Male\n",
       "1  Strangulation       Male            Male\n",
       "3  Strangulation       Male            Male\n",
       "5          Rifle       Male            Male\n",
       "6          Knife     Female            Male"
      ]
     },
     "execution_count": 8,
     "metadata": {},
     "output_type": "execute_result"
    }
   ],
   "source": [
    "male_female_df = new_dataframe[[\"Weapon\",\"Victim Sex\",\"Perpetrator Sex\"]].copy()\n",
    "male_female_df.head(5)"
   ]
  },
  {
   "cell_type": "code",
   "execution_count": 9,
   "metadata": {
    "collapsed": false
   },
   "outputs": [
    {
     "name": "stderr",
     "output_type": "stream",
     "text": [
      "C:\\Users\\priya\\Anaconda3\\lib\\site-packages\\ipykernel\\__main__.py:1: FutureWarning: order is deprecated, use sort_values(...)\n",
      "  if __name__ == '__main__':\n"
     ]
    }
   ],
   "source": [
    "male_count_df = male_female_df[(male_female_df['Victim Sex'] == \"Male\")].groupby(['Weapon']).size().order(ascending=False).to_frame(name = 'number of incidents').reset_index()"
   ]
  },
  {
   "cell_type": "code",
   "execution_count": 10,
   "metadata": {
    "collapsed": false
   },
   "outputs": [
    {
     "data": {
      "text/html": [
       "<div>\n",
       "<table border=\"1\" class=\"dataframe\">\n",
       "  <thead>\n",
       "    <tr style=\"text-align: right;\">\n",
       "      <th></th>\n",
       "      <th>Weapon</th>\n",
       "      <th>number of incidents</th>\n",
       "    </tr>\n",
       "  </thead>\n",
       "  <tbody>\n",
       "    <tr>\n",
       "      <th>0</th>\n",
       "      <td>Handgun</td>\n",
       "      <td>176499</td>\n",
       "    </tr>\n",
       "    <tr>\n",
       "      <th>1</th>\n",
       "      <td>Knife</td>\n",
       "      <td>55160</td>\n",
       "    </tr>\n",
       "    <tr>\n",
       "      <th>2</th>\n",
       "      <td>Blunt Object</td>\n",
       "      <td>32152</td>\n",
       "    </tr>\n",
       "    <tr>\n",
       "      <th>3</th>\n",
       "      <td>Firearm</td>\n",
       "      <td>19999</td>\n",
       "    </tr>\n",
       "    <tr>\n",
       "      <th>4</th>\n",
       "      <td>Shotgun</td>\n",
       "      <td>19613</td>\n",
       "    </tr>\n",
       "  </tbody>\n",
       "</table>\n",
       "</div>"
      ],
      "text/plain": [
       "         Weapon  number of incidents\n",
       "0       Handgun               176499\n",
       "1         Knife                55160\n",
       "2  Blunt Object                32152\n",
       "3       Firearm                19999\n",
       "4       Shotgun                19613"
      ]
     },
     "execution_count": 10,
     "metadata": {},
     "output_type": "execute_result"
    }
   ],
   "source": [
    "male_count_df.head(5)"
   ]
  },
  {
   "cell_type": "code",
   "execution_count": 11,
   "metadata": {
    "collapsed": false
   },
   "outputs": [
    {
     "name": "stderr",
     "output_type": "stream",
     "text": [
      "C:\\Users\\priya\\Anaconda3\\lib\\site-packages\\ipykernel\\__main__.py:1: FutureWarning: order is deprecated, use sort_values(...)\n",
      "  if __name__ == '__main__':\n"
     ]
    }
   ],
   "source": [
    "female_count_df = male_female_df[(male_female_df['Victim Sex'] == \"Female\")].groupby(['Weapon']).size().order(ascending=False).to_frame(name = 'number of incidents').reset_index()"
   ]
  },
  {
   "cell_type": "code",
   "execution_count": 12,
   "metadata": {
    "collapsed": false
   },
   "outputs": [
    {
     "data": {
      "text/html": [
       "<div>\n",
       "<table border=\"1\" class=\"dataframe\">\n",
       "  <thead>\n",
       "    <tr style=\"text-align: right;\">\n",
       "      <th></th>\n",
       "      <th>Weapon</th>\n",
       "      <th>number of incidents</th>\n",
       "    </tr>\n",
       "  </thead>\n",
       "  <tbody>\n",
       "    <tr>\n",
       "      <th>0</th>\n",
       "      <td>Handgun</td>\n",
       "      <td>40276</td>\n",
       "    </tr>\n",
       "    <tr>\n",
       "      <th>1</th>\n",
       "      <td>Knife</td>\n",
       "      <td>19573</td>\n",
       "    </tr>\n",
       "    <tr>\n",
       "      <th>2</th>\n",
       "      <td>Blunt Object</td>\n",
       "      <td>19310</td>\n",
       "    </tr>\n",
       "    <tr>\n",
       "      <th>3</th>\n",
       "      <td>Shotgun</td>\n",
       "      <td>6419</td>\n",
       "    </tr>\n",
       "    <tr>\n",
       "      <th>4</th>\n",
       "      <td>Rifle</td>\n",
       "      <td>4723</td>\n",
       "    </tr>\n",
       "  </tbody>\n",
       "</table>\n",
       "</div>"
      ],
      "text/plain": [
       "         Weapon  number of incidents\n",
       "0       Handgun                40276\n",
       "1         Knife                19573\n",
       "2  Blunt Object                19310\n",
       "3       Shotgun                 6419\n",
       "4         Rifle                 4723"
      ]
     },
     "execution_count": 12,
     "metadata": {},
     "output_type": "execute_result"
    }
   ],
   "source": [
    "female_count_df.head(5)"
   ]
  },
  {
   "cell_type": "code",
   "execution_count": 13,
   "metadata": {
    "collapsed": false
   },
   "outputs": [
    {
     "data": {
      "text/html": [
       "<div>\n",
       "<table border=\"1\" class=\"dataframe\">\n",
       "  <thead>\n",
       "    <tr style=\"text-align: right;\">\n",
       "      <th></th>\n",
       "      <th>state</th>\n",
       "      <th>permit</th>\n",
       "      <th>handgun</th>\n",
       "      <th>long_gun</th>\n",
       "      <th>other</th>\n",
       "    </tr>\n",
       "  </thead>\n",
       "  <tbody>\n",
       "    <tr>\n",
       "      <th>0</th>\n",
       "      <td>Alabama</td>\n",
       "      <td>27666.0</td>\n",
       "      <td>10603.0</td>\n",
       "      <td>6951.0</td>\n",
       "      <td>313.0</td>\n",
       "    </tr>\n",
       "    <tr>\n",
       "      <th>1</th>\n",
       "      <td>Alaska</td>\n",
       "      <td>362.0</td>\n",
       "      <td>3067.0</td>\n",
       "      <td>2640.0</td>\n",
       "      <td>242.0</td>\n",
       "    </tr>\n",
       "    <tr>\n",
       "      <th>2</th>\n",
       "      <td>Arizona</td>\n",
       "      <td>9556.0</td>\n",
       "      <td>14897.0</td>\n",
       "      <td>9036.0</td>\n",
       "      <td>1120.0</td>\n",
       "    </tr>\n",
       "    <tr>\n",
       "      <th>3</th>\n",
       "      <td>Arkansas</td>\n",
       "      <td>4775.0</td>\n",
       "      <td>7907.0</td>\n",
       "      <td>6010.0</td>\n",
       "      <td>281.0</td>\n",
       "    </tr>\n",
       "  </tbody>\n",
       "</table>\n",
       "</div>"
      ],
      "text/plain": [
       "      state   permit  handgun  long_gun   other\n",
       "0   Alabama  27666.0  10603.0    6951.0   313.0\n",
       "1    Alaska    362.0   3067.0    2640.0   242.0\n",
       "2   Arizona   9556.0  14897.0    9036.0  1120.0\n",
       "3  Arkansas   4775.0   7907.0    6010.0   281.0"
      ]
     },
     "execution_count": 13,
     "metadata": {},
     "output_type": "execute_result"
    }
   ],
   "source": [
    "weapon_owner = csv_data2[[\"state\",\"permit\",\"handgun\",\"long_gun\",\"other\"]].copy() \n",
    "weapon_owner.head(4)"
   ]
  },
  {
   "cell_type": "code",
   "execution_count": 14,
   "metadata": {
    "collapsed": false
   },
   "outputs": [
    {
     "data": {
      "text/html": [
       "<div>\n",
       "<table border=\"1\" class=\"dataframe\">\n",
       "  <thead>\n",
       "    <tr style=\"text-align: right;\">\n",
       "      <th></th>\n",
       "      <th>state</th>\n",
       "      <th>long_gun</th>\n",
       "    </tr>\n",
       "  </thead>\n",
       "  <tbody>\n",
       "    <tr>\n",
       "      <th>0</th>\n",
       "      <td>Alabama</td>\n",
       "      <td>6951.0</td>\n",
       "    </tr>\n",
       "    <tr>\n",
       "      <th>1</th>\n",
       "      <td>Alaska</td>\n",
       "      <td>2640.0</td>\n",
       "    </tr>\n",
       "    <tr>\n",
       "      <th>2</th>\n",
       "      <td>Arizona</td>\n",
       "      <td>9036.0</td>\n",
       "    </tr>\n",
       "    <tr>\n",
       "      <th>3</th>\n",
       "      <td>Arkansas</td>\n",
       "      <td>6010.0</td>\n",
       "    </tr>\n",
       "    <tr>\n",
       "      <th>4</th>\n",
       "      <td>California</td>\n",
       "      <td>27839.0</td>\n",
       "    </tr>\n",
       "  </tbody>\n",
       "</table>\n",
       "</div>"
      ],
      "text/plain": [
       "        state  long_gun\n",
       "0     Alabama    6951.0\n",
       "1      Alaska    2640.0\n",
       "2     Arizona    9036.0\n",
       "3    Arkansas    6010.0\n",
       "4  California   27839.0"
      ]
     },
     "execution_count": 14,
     "metadata": {},
     "output_type": "execute_result"
    }
   ],
   "source": [
    "State_permit_df = weapon_owner[[\"state\",\"long_gun\",]].copy()\n",
    "State_permit_df.head(5)"
   ]
  },
  {
   "cell_type": "code",
   "execution_count": 15,
   "metadata": {
    "collapsed": false
   },
   "outputs": [
    {
     "data": {
      "text/html": [
       "<div>\n",
       "<table border=\"1\" class=\"dataframe\">\n",
       "  <thead>\n",
       "    <tr style=\"text-align: right;\">\n",
       "      <th></th>\n",
       "      <th>state</th>\n",
       "      <th>handgun</th>\n",
       "    </tr>\n",
       "  </thead>\n",
       "  <tbody>\n",
       "    <tr>\n",
       "      <th>0</th>\n",
       "      <td>Alabama</td>\n",
       "      <td>10603.0</td>\n",
       "    </tr>\n",
       "    <tr>\n",
       "      <th>1</th>\n",
       "      <td>Alaska</td>\n",
       "      <td>3067.0</td>\n",
       "    </tr>\n",
       "    <tr>\n",
       "      <th>2</th>\n",
       "      <td>Arizona</td>\n",
       "      <td>14897.0</td>\n",
       "    </tr>\n",
       "    <tr>\n",
       "      <th>3</th>\n",
       "      <td>Arkansas</td>\n",
       "      <td>7907.0</td>\n",
       "    </tr>\n",
       "    <tr>\n",
       "      <th>4</th>\n",
       "      <td>California</td>\n",
       "      <td>48732.0</td>\n",
       "    </tr>\n",
       "  </tbody>\n",
       "</table>\n",
       "</div>"
      ],
      "text/plain": [
       "        state  handgun\n",
       "0     Alabama  10603.0\n",
       "1      Alaska   3067.0\n",
       "2     Arizona  14897.0\n",
       "3    Arkansas   7907.0\n",
       "4  California  48732.0"
      ]
     },
     "execution_count": 15,
     "metadata": {},
     "output_type": "execute_result"
    }
   ],
   "source": [
    "State_handgun_df = weapon_owner[[\"state\",\"handgun\",]].copy()\n",
    "State_handgun_df.head(5)"
   ]
  },
  {
   "cell_type": "code",
   "execution_count": 23,
   "metadata": {
    "collapsed": false
   },
   "outputs": [
    {
     "name": "stderr",
     "output_type": "stream",
     "text": [
      "C:\\Users\\priya\\Anaconda3\\lib\\site-packages\\ipykernel\\__main__.py:1: FutureWarning: sort(....) is deprecated, use sort_index(.....)\n",
      "  if __name__ == '__main__':\n",
      "C:\\Users\\priya\\Anaconda3\\lib\\site-packages\\ipykernel\\__main__.py:2: FutureWarning: sort(....) is deprecated, use sort_index(.....)\n",
      "  from ipykernel import kernelapp as app\n"
     ]
    }
   ],
   "source": [
    "State_permit_df = State_permit_df.groupby('state', as_index=False)['long_gun'].mean()\n",
    "State_handgun_df = State_handgun_df.groupby('state',as_index=False )['handgun'].mean()"
   ]
  },
  {
   "cell_type": "code",
   "execution_count": 17,
   "metadata": {
    "collapsed": false
   },
   "outputs": [
    {
     "data": {
      "text/plain": [
       "[<matplotlib.text.Text at 0x1769e9bd1d0>,\n",
       " <matplotlib.text.Text at 0x1769ea08048>,\n",
       " <matplotlib.text.Text at 0x1769ebb7a58>,\n",
       " <matplotlib.text.Text at 0x1769ebbe588>,\n",
       " <matplotlib.text.Text at 0x1769ebc10b8>,\n",
       " <matplotlib.text.Text at 0x1769ebc1ba8>,\n",
       " <matplotlib.text.Text at 0x1769ebc56d8>,\n",
       " <matplotlib.text.Text at 0x1769ebc8208>,\n",
       " <matplotlib.text.Text at 0x1769ebc8cf8>,\n",
       " <matplotlib.text.Text at 0x1769ebce828>,\n",
       " <matplotlib.text.Text at 0x1769ebd2358>,\n",
       " <matplotlib.text.Text at 0x1769ebd2e48>,\n",
       " <matplotlib.text.Text at 0x1769ebd5978>,\n",
       " <matplotlib.text.Text at 0x1769ebd94a8>,\n",
       " <matplotlib.text.Text at 0x1769ebd9f98>]"
      ]
     },
     "execution_count": 17,
     "metadata": {},
     "output_type": "execute_result"
    },
    {
     "data": {
      "image/png": "[encoded data removed]",
      "text/plain": [
       "<matplotlib.figure.Figure at 0x1769f765080>"
      ]
     },
     "metadata": {},
     "output_type": "display_data"
    }
   ],
   "source": [
    "ax = sns.barplot(x=\"Weapon\", y=\"number of incidents\", data=weapon_count_df) \n",
    "ax.set_xticklabels(weapon_count_df[\"Weapon\"], rotation=90)"
   ]
  },
  {
   "cell_type": "code",
   "execution_count": 25,
   "metadata": {
    "collapsed": false
   },
   "outputs": [
    {
     "data": {
      "image/png": "[encoded data removed]",
      "text/plain": [
       "<matplotlib.figure.Figure at 0x176b68412b0>"
      ]
     },
     "metadata": {},
     "output_type": "display_data"
    }
   ],
   "source": [
    "f, (ax1, ax2) = plt.subplots(1, 2, sharey=True)\n",
    "ax1 = sns.barplot(x=\"Weapon\", y=\"number of incidents\", data=male_count_df.head(),ax=ax1,  color=\"#D3133E\") \n",
    "ax1.set_xticklabels(weapon_count_df[\"Weapon\"], rotation=90)\n",
    "ax1.set_title('Male killed by:')\n",
    "ax2 = sns.barplot(x=\"Weapon\", y=\"number of incidents\", data=female_count_df.head(),ax=ax2, color=\"#3162C1\")\n",
    "ax2.set_xticklabels(weapon_count_df[\"Weapon\"], rotation=90)\n",
    "ax2.set_title('Female killed by: ')\n",
    "plt.subplots_adjust(right=2)"
   ]
  },
  {
   "cell_type": "code",
   "execution_count": 19,
   "metadata": {
    "collapsed": false
   },
   "outputs": [
    {
     "data": {
      "image/png": "[encoded data removed]",
      "text/plain": [
       "<matplotlib.figure.Figure at 0x1769ea46400>"
      ]
     },
     "metadata": {},
     "output_type": "display_data"
    }
   ],
   "source": [
    "cx = sns.stripplot(x = 'Perpetrator Count', y = 'Victim Count', data = csv_data1)"
   ]
  },
  {
   "cell_type": "code",
   "execution_count": 27,
   "metadata": {
    "collapsed": false
   },
   "outputs": [
    {
     "data": {
      "image/png": "[encoded data removed]",
      "text/plain": [
       "<matplotlib.figure.Figure at 0x176b69137b8>"
      ]
     },
     "metadata": {},
     "output_type": "display_data"
    }
   ],
   "source": [
    "f, (ax1, ax2) = plt.subplots(1,2)\n",
    "ax1 = sns.barplot(x=\"state\", y=\"long_gun\", data=State_permit_df.head(),ax=ax1,  color=\"#D3133E\") \n",
    "ax1.set_xticklabels(State_permit_df[\"state\"], rotation=90)\n",
    "ax1.set_title('long_gun count:')\n",
    "ax2 = sns.barplot(x=\"state\", y=\"handgun\", data=State_handgun_df.head()\n",
    "                  ,ax=ax2, color=\"#3162C1\")\n",
    "ax2.set_xticklabels(State_handgun_df[\"state\"], rotation=90)\n",
    "ax2.set_title('handgun count: ')\n",
    "plt.subplots_adjust(right=2,bottom=1,top=2)"
   ]
  },
  {
   "cell_type": "markdown",
   "metadata": {},
   "source": [
    "# Conclusion"
   ]
  },
  {
   "cell_type": "markdown",
   "metadata": {},
   "source": [
    "That Higher Rates of Gun Ownership Lead to Higher Rates of Violent Crime\n",
    "Rifle Association and other gun-rights proponents, who have steadfastly pushed the idea that a society with more guns leads to less crime, and that “the only way to stop a bad guy with a gun is a good guy with a gun.”\n",
    "\n",
    "shows that gun ownership is more often a catalyst than a deterrent to crime.\n"
   ]
  },
  {
   "cell_type": "code",
   "execution_count": null,
   "metadata": {
    "collapsed": true
   },
   "outputs": [],
   "source": []
  }
 ],
 "metadata": {
  "anaconda-cloud": {},
  "kernelspec": {
   "display_name": "Python [conda root]",
   "language": "python",
   "name": "conda-root-py"
  },
  "language_info": {
   "codemirror_mode": {
    "name": "ipython",
    "version": 3
   },
   "file_extension": ".py",
   "mimetype": "text/x-python",
   "name": "python",
   "nbconvert_exporter": "python",
   "pygments_lexer": "ipython3",
   "version": "3.5.2"
  }
 },
 "nbformat": 4,
 "nbformat_minor": 1
}
