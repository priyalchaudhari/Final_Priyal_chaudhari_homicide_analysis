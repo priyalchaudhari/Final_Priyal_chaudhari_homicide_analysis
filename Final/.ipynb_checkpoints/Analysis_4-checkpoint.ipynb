{
 "cells": [
  {
   "cell_type": "code",
   "execution_count": 1,
   "metadata": {
    "collapsed": true
   },
   "outputs": [],
   "source": [
    "import os\n",
    "from os import listdir\n",
    "from os.path import isfile, join\n",
    "import glob\n",
    "import string\n",
    "import operator\n",
    "import csv\n",
    "import pandas as pd\n",
    "import calendar\n",
    "%matplotlib inline\n",
    "import seaborn as sns\n",
    "import matplotlib.pyplot as plt\n",
    "import numpy as np"
   ]
  },
  {
   "cell_type": "code",
   "execution_count": 2,
   "metadata": {
    "collapsed": false
   },
   "outputs": [
    {
     "name": "stdout",
     "output_type": "stream",
     "text": [
      "C:\\Users\\priya\\Final\\Data\n"
     ]
    }
   ],
   "source": [
    "homedir = os.path.expanduser(\"~\")\n",
    "path_to_data = homedir+\"\\\\Final\\\\Data\"\n",
    "print(path_to_data)"
   ]
  },
  {
   "cell_type": "code",
   "execution_count": 3,
   "metadata": {
    "collapsed": false
   },
   "outputs": [
    {
     "name": "stderr",
     "output_type": "stream",
     "text": [
      "C:\\Users\\priya\\Anaconda3\\lib\\site-packages\\IPython\\core\\interactiveshell.py:2717: DtypeWarning: Columns (16) have mixed types. Specify dtype option on import or set low_memory=False.\n",
      "  interactivity=interactivity, compiler=compiler, result=result)\n"
     ]
    },
    {
     "data": {
      "text/html": [
       "<div>\n",
       "<table border=\"1\" class=\"dataframe\">\n",
       "  <thead>\n",
       "    <tr style=\"text-align: right;\">\n",
       "      <th></th>\n",
       "      <th>Record ID</th>\n",
       "      <th>Agency Code</th>\n",
       "      <th>Agency Name</th>\n",
       "      <th>Agency Type</th>\n",
       "      <th>City</th>\n",
       "      <th>State</th>\n",
       "      <th>Year</th>\n",
       "      <th>Month</th>\n",
       "      <th>Incident</th>\n",
       "      <th>Crime Type</th>\n",
       "      <th>...</th>\n",
       "      <th>Victim Ethnicity</th>\n",
       "      <th>Perpetrator Sex</th>\n",
       "      <th>Perpetrator Age</th>\n",
       "      <th>Perpetrator Race</th>\n",
       "      <th>Perpetrator Ethnicity</th>\n",
       "      <th>Relationship</th>\n",
       "      <th>Weapon</th>\n",
       "      <th>Victim Count</th>\n",
       "      <th>Perpetrator Count</th>\n",
       "      <th>Record Source</th>\n",
       "    </tr>\n",
       "  </thead>\n",
       "  <tbody>\n",
       "    <tr>\n",
       "      <th>0</th>\n",
       "      <td>1</td>\n",
       "      <td>AK00101</td>\n",
       "      <td>Anchorage</td>\n",
       "      <td>Municipal Police</td>\n",
       "      <td>Anchorage</td>\n",
       "      <td>Alaska</td>\n",
       "      <td>1980</td>\n",
       "      <td>January</td>\n",
       "      <td>1</td>\n",
       "      <td>Murder or Manslaughter</td>\n",
       "      <td>...</td>\n",
       "      <td>Unknown</td>\n",
       "      <td>Male</td>\n",
       "      <td>15</td>\n",
       "      <td>Native American/Alaska Native</td>\n",
       "      <td>Unknown</td>\n",
       "      <td>Acquaintance</td>\n",
       "      <td>Blunt Object</td>\n",
       "      <td>0</td>\n",
       "      <td>0</td>\n",
       "      <td>FBI</td>\n",
       "    </tr>\n",
       "    <tr>\n",
       "      <th>1</th>\n",
       "      <td>2</td>\n",
       "      <td>AK00101</td>\n",
       "      <td>Anchorage</td>\n",
       "      <td>Municipal Police</td>\n",
       "      <td>Anchorage</td>\n",
       "      <td>Alaska</td>\n",
       "      <td>1980</td>\n",
       "      <td>March</td>\n",
       "      <td>1</td>\n",
       "      <td>Murder or Manslaughter</td>\n",
       "      <td>...</td>\n",
       "      <td>Unknown</td>\n",
       "      <td>Male</td>\n",
       "      <td>42</td>\n",
       "      <td>White</td>\n",
       "      <td>Unknown</td>\n",
       "      <td>Acquaintance</td>\n",
       "      <td>Strangulation</td>\n",
       "      <td>0</td>\n",
       "      <td>0</td>\n",
       "      <td>FBI</td>\n",
       "    </tr>\n",
       "    <tr>\n",
       "      <th>2</th>\n",
       "      <td>3</td>\n",
       "      <td>AK00101</td>\n",
       "      <td>Anchorage</td>\n",
       "      <td>Municipal Police</td>\n",
       "      <td>Anchorage</td>\n",
       "      <td>Alaska</td>\n",
       "      <td>1980</td>\n",
       "      <td>March</td>\n",
       "      <td>2</td>\n",
       "      <td>Murder or Manslaughter</td>\n",
       "      <td>...</td>\n",
       "      <td>Unknown</td>\n",
       "      <td>Unknown</td>\n",
       "      <td>0</td>\n",
       "      <td>Unknown</td>\n",
       "      <td>Unknown</td>\n",
       "      <td>Unknown</td>\n",
       "      <td>Unknown</td>\n",
       "      <td>0</td>\n",
       "      <td>0</td>\n",
       "      <td>FBI</td>\n",
       "    </tr>\n",
       "    <tr>\n",
       "      <th>3</th>\n",
       "      <td>4</td>\n",
       "      <td>AK00101</td>\n",
       "      <td>Anchorage</td>\n",
       "      <td>Municipal Police</td>\n",
       "      <td>Anchorage</td>\n",
       "      <td>Alaska</td>\n",
       "      <td>1980</td>\n",
       "      <td>April</td>\n",
       "      <td>1</td>\n",
       "      <td>Murder or Manslaughter</td>\n",
       "      <td>...</td>\n",
       "      <td>Unknown</td>\n",
       "      <td>Male</td>\n",
       "      <td>42</td>\n",
       "      <td>White</td>\n",
       "      <td>Unknown</td>\n",
       "      <td>Acquaintance</td>\n",
       "      <td>Strangulation</td>\n",
       "      <td>0</td>\n",
       "      <td>0</td>\n",
       "      <td>FBI</td>\n",
       "    </tr>\n",
       "    <tr>\n",
       "      <th>4</th>\n",
       "      <td>5</td>\n",
       "      <td>AK00101</td>\n",
       "      <td>Anchorage</td>\n",
       "      <td>Municipal Police</td>\n",
       "      <td>Anchorage</td>\n",
       "      <td>Alaska</td>\n",
       "      <td>1980</td>\n",
       "      <td>April</td>\n",
       "      <td>2</td>\n",
       "      <td>Murder or Manslaughter</td>\n",
       "      <td>...</td>\n",
       "      <td>Unknown</td>\n",
       "      <td>Unknown</td>\n",
       "      <td>0</td>\n",
       "      <td>Unknown</td>\n",
       "      <td>Unknown</td>\n",
       "      <td>Unknown</td>\n",
       "      <td>Unknown</td>\n",
       "      <td>0</td>\n",
       "      <td>1</td>\n",
       "      <td>FBI</td>\n",
       "    </tr>\n",
       "  </tbody>\n",
       "</table>\n",
       "<p>5 rows × 24 columns</p>\n",
       "</div>"
      ],
      "text/plain": [
       "   Record ID Agency Code Agency Name       Agency Type       City   State  \\\n",
       "0          1     AK00101   Anchorage  Municipal Police  Anchorage  Alaska   \n",
       "1          2     AK00101   Anchorage  Municipal Police  Anchorage  Alaska   \n",
       "2          3     AK00101   Anchorage  Municipal Police  Anchorage  Alaska   \n",
       "3          4     AK00101   Anchorage  Municipal Police  Anchorage  Alaska   \n",
       "4          5     AK00101   Anchorage  Municipal Police  Anchorage  Alaska   \n",
       "\n",
       "   Year    Month  Incident              Crime Type      ...       \\\n",
       "0  1980  January         1  Murder or Manslaughter      ...        \n",
       "1  1980    March         1  Murder or Manslaughter      ...        \n",
       "2  1980    March         2  Murder or Manslaughter      ...        \n",
       "3  1980    April         1  Murder or Manslaughter      ...        \n",
       "4  1980    April         2  Murder or Manslaughter      ...        \n",
       "\n",
       "  Victim Ethnicity Perpetrator Sex  Perpetrator Age  \\\n",
       "0          Unknown            Male               15   \n",
       "1          Unknown            Male               42   \n",
       "2          Unknown         Unknown                0   \n",
       "3          Unknown            Male               42   \n",
       "4          Unknown         Unknown                0   \n",
       "\n",
       "                Perpetrator Race Perpetrator Ethnicity  Relationship  \\\n",
       "0  Native American/Alaska Native               Unknown  Acquaintance   \n",
       "1                          White               Unknown  Acquaintance   \n",
       "2                        Unknown               Unknown       Unknown   \n",
       "3                          White               Unknown  Acquaintance   \n",
       "4                        Unknown               Unknown       Unknown   \n",
       "\n",
       "          Weapon Victim Count Perpetrator Count Record Source  \n",
       "0   Blunt Object            0                 0           FBI  \n",
       "1  Strangulation            0                 0           FBI  \n",
       "2        Unknown            0                 0           FBI  \n",
       "3  Strangulation            0                 0           FBI  \n",
       "4        Unknown            0                 1           FBI  \n",
       "\n",
       "[5 rows x 24 columns]"
      ]
     },
     "execution_count": 3,
     "metadata": {},
     "output_type": "execute_result"
    }
   ],
   "source": [
    "for subdir,dirs, files in os.walk(path_to_data):\n",
    "    #print(files)\n",
    "    for file in files:\n",
    "        if file == 'database.csv':\n",
    "            #print(file)\n",
    "            csv_data1=pd.read_csv(os.path.join(subdir,file))\n",
    "        if file == 'Temp_data.csv':\n",
    "            csv_data2=pd.read_csv(os.path.join(subdir,file))\n",
    "        if file == 'states.csv':\n",
    "            csv_data3 = pd.read_csv(os.path.join(subdir,file))\n",
    "csv_data1.head(5)"
   ]
  },
  {
   "cell_type": "code",
   "execution_count": 4,
   "metadata": {
    "collapsed": false
   },
   "outputs": [
    {
     "data": {
      "text/html": [
       "<div>\n",
       "<table border=\"1\" class=\"dataframe\">\n",
       "  <thead>\n",
       "    <tr style=\"text-align: right;\">\n",
       "      <th></th>\n",
       "      <th>YearMonth</th>\n",
       "      <th>State</th>\n",
       "      <th>AvgTemp</th>\n",
       "    </tr>\n",
       "  </thead>\n",
       "  <tbody>\n",
       "    <tr>\n",
       "      <th>0</th>\n",
       "      <td>April</td>\n",
       "      <td>FLYING CLOUD</td>\n",
       "      <td>49.300000</td>\n",
       "    </tr>\n",
       "    <tr>\n",
       "      <th>1</th>\n",
       "      <td>April</td>\n",
       "      <td>KAUAI</td>\n",
       "      <td>75.700000</td>\n",
       "    </tr>\n",
       "    <tr>\n",
       "      <th>2</th>\n",
       "      <td>April</td>\n",
       "      <td>AK</td>\n",
       "      <td>34.859813</td>\n",
       "    </tr>\n",
       "    <tr>\n",
       "      <th>3</th>\n",
       "      <td>April</td>\n",
       "      <td>AL</td>\n",
       "      <td>65.191781</td>\n",
       "    </tr>\n",
       "    <tr>\n",
       "      <th>4</th>\n",
       "      <td>April</td>\n",
       "      <td>AR</td>\n",
       "      <td>62.513889</td>\n",
       "    </tr>\n",
       "  </tbody>\n",
       "</table>\n",
       "</div>"
      ],
      "text/plain": [
       "  YearMonth          State    AvgTemp\n",
       "0     April   FLYING CLOUD  49.300000\n",
       "1     April          KAUAI  75.700000\n",
       "2     April             AK  34.859813\n",
       "3     April             AL  65.191781\n",
       "4     April             AR  62.513889"
      ]
     },
     "execution_count": 4,
     "metadata": {},
     "output_type": "execute_result"
    }
   ],
   "source": [
    "csv_data2= csv_data2.ix[:,'YearMonth':]\n",
    "csv_data2=csv_data2[csv_data2['AvgTemp']!='M']\n",
    "csv_data2=csv_data2.reset_index(drop=True)\n",
    "csv_data2['AvgTemp'] = pd.to_numeric(csv_data2['AvgTemp']).fillna(0)\n",
    "csv_data2=csv_data2.groupby(['YearMonth','State'],as_index=False)['AvgTemp'].mean()\n",
    "\n",
    "csv_data2.head(5)"
   ]
  },
  {
   "cell_type": "code",
   "execution_count": 5,
   "metadata": {
    "collapsed": false
   },
   "outputs": [
    {
     "data": {
      "text/html": [
       "<div>\n",
       "<table border=\"1\" class=\"dataframe\">\n",
       "  <thead>\n",
       "    <tr style=\"text-align: right;\">\n",
       "      <th></th>\n",
       "      <th>YearMonth</th>\n",
       "      <th>State_x</th>\n",
       "      <th>AvgTemp</th>\n",
       "      <th>State_y</th>\n",
       "      <th>Abbreviation</th>\n",
       "    </tr>\n",
       "  </thead>\n",
       "  <tbody>\n",
       "    <tr>\n",
       "      <th>0</th>\n",
       "      <td>April</td>\n",
       "      <td>AK</td>\n",
       "      <td>34.859813</td>\n",
       "      <td>Alaska</td>\n",
       "      <td>AK</td>\n",
       "    </tr>\n",
       "    <tr>\n",
       "      <th>1</th>\n",
       "      <td>August</td>\n",
       "      <td>AK</td>\n",
       "      <td>54.980220</td>\n",
       "      <td>Alaska</td>\n",
       "      <td>AK</td>\n",
       "    </tr>\n",
       "    <tr>\n",
       "      <th>2</th>\n",
       "      <td>December</td>\n",
       "      <td>AK</td>\n",
       "      <td>16.387273</td>\n",
       "      <td>Alaska</td>\n",
       "      <td>AK</td>\n",
       "    </tr>\n",
       "    <tr>\n",
       "      <th>3</th>\n",
       "      <td>February</td>\n",
       "      <td>AK</td>\n",
       "      <td>21.933945</td>\n",
       "      <td>Alaska</td>\n",
       "      <td>AK</td>\n",
       "    </tr>\n",
       "    <tr>\n",
       "      <th>4</th>\n",
       "      <td>January</td>\n",
       "      <td>AK</td>\n",
       "      <td>19.263441</td>\n",
       "      <td>Alaska</td>\n",
       "      <td>AK</td>\n",
       "    </tr>\n",
       "  </tbody>\n",
       "</table>\n",
       "</div>"
      ],
      "text/plain": [
       "  YearMonth State_x    AvgTemp State_y Abbreviation\n",
       "0     April      AK  34.859813  Alaska           AK\n",
       "1    August      AK  54.980220  Alaska           AK\n",
       "2  December      AK  16.387273  Alaska           AK\n",
       "3  February      AK  21.933945  Alaska           AK\n",
       "4   January      AK  19.263441  Alaska           AK"
      ]
     },
     "execution_count": 5,
     "metadata": {},
     "output_type": "execute_result"
    }
   ],
   "source": [
    "final_temp_df = pd.merge(csv_data2,csv_data3,how='inner',left_on=['State'],right_on=['Abbreviation'])\n",
    "final_temp_df.head()"
   ]
  },
  {
   "cell_type": "code",
   "execution_count": 6,
   "metadata": {
    "collapsed": false
   },
   "outputs": [
    {
     "name": "stderr",
     "output_type": "stream",
     "text": [
      "C:\\Users\\priya\\Anaconda3\\lib\\site-packages\\ipykernel\\__main__.py:1: FutureWarning: order is deprecated, use sort_values(...)\n",
      "  if __name__ == '__main__':\n"
     ]
    },
    {
     "data": {
      "text/html": [
       "<div>\n",
       "<table border=\"1\" class=\"dataframe\">\n",
       "  <thead>\n",
       "    <tr style=\"text-align: right;\">\n",
       "      <th></th>\n",
       "      <th>State</th>\n",
       "      <th>number of incidents</th>\n",
       "    </tr>\n",
       "  </thead>\n",
       "  <tbody>\n",
       "    <tr>\n",
       "      <th>0</th>\n",
       "      <td>California</td>\n",
       "      <td>99783</td>\n",
       "    </tr>\n",
       "    <tr>\n",
       "      <th>1</th>\n",
       "      <td>Texas</td>\n",
       "      <td>62095</td>\n",
       "    </tr>\n",
       "  </tbody>\n",
       "</table>\n",
       "</div>"
      ],
      "text/plain": [
       "        State  number of incidents\n",
       "0  California                99783\n",
       "1       Texas                62095"
      ]
     },
     "execution_count": 6,
     "metadata": {},
     "output_type": "execute_result"
    }
   ],
   "source": [
    "Main_df = csv_data1[(csv_data1.State != \"Unknown\")].groupby(['State']).size().order(ascending=False).to_frame(name = 'number of incidents').reset_index()\n",
    "Main_df.head(2)"
   ]
  },
  {
   "cell_type": "code",
   "execution_count": 7,
   "metadata": {
    "collapsed": false
   },
   "outputs": [
    {
     "name": "stderr",
     "output_type": "stream",
     "text": [
      "C:\\Users\\priya\\Anaconda3\\lib\\site-packages\\ipykernel\\__main__.py:2: FutureWarning: sort(columns=....) is deprecated, use sort_values(by=.....)\n",
      "  from ipykernel import kernelapp as app\n"
     ]
    },
    {
     "data": {
      "text/html": [
       "<div>\n",
       "<table border=\"1\" class=\"dataframe\">\n",
       "  <thead>\n",
       "    <tr style=\"text-align: right;\">\n",
       "      <th></th>\n",
       "      <th>YearMonth</th>\n",
       "      <th>State_x</th>\n",
       "      <th>AvgTemp</th>\n",
       "      <th>State_y</th>\n",
       "      <th>Abbreviation</th>\n",
       "      <th>State</th>\n",
       "      <th>number of incidents</th>\n",
       "    </tr>\n",
       "  </thead>\n",
       "  <tbody>\n",
       "    <tr>\n",
       "      <th>267</th>\n",
       "      <td>February</td>\n",
       "      <td>MN</td>\n",
       "      <td>12.893548</td>\n",
       "      <td>Minnesota</td>\n",
       "      <td>MN</td>\n",
       "      <td>Minnesota</td>\n",
       "      <td>3975</td>\n",
       "    </tr>\n",
       "    <tr>\n",
       "      <th>268</th>\n",
       "      <td>January</td>\n",
       "      <td>MN</td>\n",
       "      <td>13.920690</td>\n",
       "      <td>Minnesota</td>\n",
       "      <td>MN</td>\n",
       "      <td>Minnesota</td>\n",
       "      <td>3975</td>\n",
       "    </tr>\n",
       "    <tr>\n",
       "      <th>243</th>\n",
       "      <td>February</td>\n",
       "      <td>ME</td>\n",
       "      <td>14.237500</td>\n",
       "      <td>Maine</td>\n",
       "      <td>ME</td>\n",
       "      <td>Maine</td>\n",
       "      <td>869</td>\n",
       "    </tr>\n",
       "    <tr>\n",
       "      <th>2</th>\n",
       "      <td>December</td>\n",
       "      <td>AK</td>\n",
       "      <td>16.387273</td>\n",
       "      <td>Alaska</td>\n",
       "      <td>AK</td>\n",
       "      <td>Alaska</td>\n",
       "      <td>1617</td>\n",
       "    </tr>\n",
       "    <tr>\n",
       "      <th>531</th>\n",
       "      <td>February</td>\n",
       "      <td>VT</td>\n",
       "      <td>16.466667</td>\n",
       "      <td>Vermont</td>\n",
       "      <td>VT</td>\n",
       "      <td>Vermont</td>\n",
       "      <td>412</td>\n",
       "    </tr>\n",
       "  </tbody>\n",
       "</table>\n",
       "</div>"
      ],
      "text/plain": [
       "    YearMonth State_x    AvgTemp    State_y Abbreviation      State  \\\n",
       "267  February      MN  12.893548  Minnesota           MN  Minnesota   \n",
       "268   January      MN  13.920690  Minnesota           MN  Minnesota   \n",
       "243  February      ME  14.237500      Maine           ME      Maine   \n",
       "2    December      AK  16.387273     Alaska           AK     Alaska   \n",
       "531  February      VT  16.466667    Vermont           VT    Vermont   \n",
       "\n",
       "     number of incidents  \n",
       "267                 3975  \n",
       "268                 3975  \n",
       "243                  869  \n",
       "2                   1617  \n",
       "531                  412  "
      ]
     },
     "execution_count": 7,
     "metadata": {},
     "output_type": "execute_result"
    }
   ],
   "source": [
    "df = pd.merge(final_temp_df,Main_df,how='inner',left_on=['State_y'],right_on=['State'])\n",
    "df = df.sort(['AvgTemp'],ascending = [1])\n",
    "df.head(5)"
   ]
  },
  {
   "cell_type": "code",
   "execution_count": 8,
   "metadata": {
    "collapsed": false
   },
   "outputs": [
    {
     "data": {
      "image/png": "[encoded data removed]",
      "text/plain": [
       "<matplotlib.figure.Figure at 0x21243c47c50>"
      ]
     },
     "metadata": {},
     "output_type": "display_data"
    }
   ],
   "source": [
    "ax = sns.pointplot(x=\"AvgTemp\", y=\"number of incidents\", hue=\"State\",data=df.tail())"
   ]
  },
  {
   "cell_type": "code",
   "execution_count": 9,
   "metadata": {
    "collapsed": false
   },
   "outputs": [],
   "source": [
    "cali_df = csv_data1[(csv_data1[\"State\"] != \"Unknown\") & (csv_data1[\"State\"] == \"California\")]\n",
    "texas_df= csv_data1[(csv_data1[\"State\"] != \"Unknown\") & (csv_data1[\"State\"] == \"Texas\")]\n",
    "ny_df= csv_data1[(csv_data1[\"State\"] != \"Unknown\") & (csv_data1[\"State\"] == \"New York\")]\n",
    "florida_df= csv_data1[(csv_data1[\"State\"] != \"Unknown\") & (csv_data1[\"State\"] == \"Florida\")]\n",
    "chicago_df= csv_data1[(csv_data1[\"State\"] != \"Unknown\") & (csv_data1[\"State\"] == \"Illinois\")]\n",
    "louisiana_df= csv_data1[(csv_data1[\"State\"] != \"Unknown\") & (csv_data1[\"State\"] == \"Louisiana\")]\n",
    "mass_df= csv_data1[(csv_data1[\"State\"] != \"Unknown\") & (csv_data1[\"State\"] == \"Massachusetts\")]"
   ]
  },
  {
   "cell_type": "code",
   "execution_count": null,
   "metadata": {
    "collapsed": true
   },
   "outputs": [],
   "source": []
  },
  {
   "cell_type": "code",
   "execution_count": 10,
   "metadata": {
    "collapsed": false
   },
   "outputs": [
    {
     "data": {
      "text/html": [
       "<div>\n",
       "<table border=\"1\" class=\"dataframe\">\n",
       "  <thead>\n",
       "    <tr style=\"text-align: right;\">\n",
       "      <th></th>\n",
       "      <th>Month</th>\n",
       "      <th>State</th>\n",
       "      <th>number of incidents</th>\n",
       "    </tr>\n",
       "  </thead>\n",
       "  <tbody>\n",
       "    <tr>\n",
       "      <th>0</th>\n",
       "      <td>April</td>\n",
       "      <td>Massachusetts</td>\n",
       "      <td>463</td>\n",
       "    </tr>\n",
       "    <tr>\n",
       "      <th>1</th>\n",
       "      <td>August</td>\n",
       "      <td>Massachusetts</td>\n",
       "      <td>557</td>\n",
       "    </tr>\n",
       "    <tr>\n",
       "      <th>2</th>\n",
       "      <td>December</td>\n",
       "      <td>Massachusetts</td>\n",
       "      <td>484</td>\n",
       "    </tr>\n",
       "    <tr>\n",
       "      <th>3</th>\n",
       "      <td>February</td>\n",
       "      <td>Massachusetts</td>\n",
       "      <td>439</td>\n",
       "    </tr>\n",
       "    <tr>\n",
       "      <th>4</th>\n",
       "      <td>January</td>\n",
       "      <td>Massachusetts</td>\n",
       "      <td>505</td>\n",
       "    </tr>\n",
       "    <tr>\n",
       "      <th>5</th>\n",
       "      <td>July</td>\n",
       "      <td>Massachusetts</td>\n",
       "      <td>594</td>\n",
       "    </tr>\n",
       "    <tr>\n",
       "      <th>6</th>\n",
       "      <td>June</td>\n",
       "      <td>Massachusetts</td>\n",
       "      <td>563</td>\n",
       "    </tr>\n",
       "    <tr>\n",
       "      <th>7</th>\n",
       "      <td>March</td>\n",
       "      <td>Massachusetts</td>\n",
       "      <td>484</td>\n",
       "    </tr>\n",
       "    <tr>\n",
       "      <th>8</th>\n",
       "      <td>May</td>\n",
       "      <td>Massachusetts</td>\n",
       "      <td>550</td>\n",
       "    </tr>\n",
       "    <tr>\n",
       "      <th>9</th>\n",
       "      <td>November</td>\n",
       "      <td>Massachusetts</td>\n",
       "      <td>410</td>\n",
       "    </tr>\n",
       "    <tr>\n",
       "      <th>10</th>\n",
       "      <td>October</td>\n",
       "      <td>Massachusetts</td>\n",
       "      <td>497</td>\n",
       "    </tr>\n",
       "    <tr>\n",
       "      <th>11</th>\n",
       "      <td>September</td>\n",
       "      <td>Massachusetts</td>\n",
       "      <td>490</td>\n",
       "    </tr>\n",
       "  </tbody>\n",
       "</table>\n",
       "</div>"
      ],
      "text/plain": [
       "        Month          State  number of incidents\n",
       "0       April  Massachusetts                  463\n",
       "1      August  Massachusetts                  557\n",
       "2    December  Massachusetts                  484\n",
       "3    February  Massachusetts                  439\n",
       "4     January  Massachusetts                  505\n",
       "5        July  Massachusetts                  594\n",
       "6        June  Massachusetts                  563\n",
       "7       March  Massachusetts                  484\n",
       "8         May  Massachusetts                  550\n",
       "9    November  Massachusetts                  410\n",
       "10    October  Massachusetts                  497\n",
       "11  September  Massachusetts                  490"
      ]
     },
     "execution_count": 10,
     "metadata": {},
     "output_type": "execute_result"
    }
   ],
   "source": [
    "cali_df = cali_df[(cali_df.State != \"Unknown\")].groupby(['Month','State']).size().to_frame(name = 'number of incidents').reset_index()\n",
    "texas_df = texas_df[(texas_df.State != \"Unknown\")].groupby(['Month','State']).size().to_frame(name = 'number of incidents').reset_index()\n",
    "ny_df = ny_df[(ny_df.State != \"Unknown\")].groupby(['Month','State']).size().to_frame(name = 'number of incidents').reset_index()\n",
    "florida_df = florida_df[(florida_df.State != \"Unknown\")].groupby(['Month','State']).size().to_frame(name = 'number of incidents').reset_index()\n",
    "chicago_df = chicago_df[(chicago_df.State != \"Unknown\")].groupby(['Month','State']).size().to_frame(name = 'number of incidents').reset_index()\n",
    "louisiana_df = louisiana_df[(louisiana_df.State != \"Unknown\")].groupby(['Month','State']).size().to_frame(name = 'number of incidents').reset_index()\n",
    "mass_df = mass_df[(mass_df.State != \"Unknown\")].groupby(['Month','State']).size().to_frame(name = 'number of incidents').reset_index()\n",
    "\n",
    "mass_df.head(20)"
   ]
  },
  {
   "cell_type": "code",
   "execution_count": 11,
   "metadata": {
    "collapsed": false
   },
   "outputs": [
    {
     "name": "stderr",
     "output_type": "stream",
     "text": [
      "C:\\Users\\priya\\Anaconda3\\lib\\site-packages\\ipykernel\\__main__.py:10: FutureWarning: sort(columns=....) is deprecated, use sort_values(by=.....)\n",
      "C:\\Users\\priya\\Anaconda3\\lib\\site-packages\\ipykernel\\__main__.py:11: FutureWarning: sort(columns=....) is deprecated, use sort_values(by=.....)\n"
     ]
    },
    {
     "data": {
      "text/html": [
       "<div>\n",
       "<table border=\"1\" class=\"dataframe\">\n",
       "  <thead>\n",
       "    <tr style=\"text-align: right;\">\n",
       "      <th></th>\n",
       "      <th>YearMonth</th>\n",
       "      <th>State_x</th>\n",
       "      <th>AvgTemp</th>\n",
       "      <th>State_y</th>\n",
       "      <th>Abbreviation</th>\n",
       "      <th>Month</th>\n",
       "      <th>State</th>\n",
       "      <th>number of incidents</th>\n",
       "    </tr>\n",
       "  </thead>\n",
       "  <tbody>\n",
       "    <tr>\n",
       "      <th>2</th>\n",
       "      <td>December</td>\n",
       "      <td>CA</td>\n",
       "      <td>48.891358</td>\n",
       "      <td>California</td>\n",
       "      <td>CA</td>\n",
       "      <td>December</td>\n",
       "      <td>California</td>\n",
       "      <td>8433</td>\n",
       "    </tr>\n",
       "    <tr>\n",
       "      <th>4</th>\n",
       "      <td>January</td>\n",
       "      <td>CA</td>\n",
       "      <td>52.307362</td>\n",
       "      <td>California</td>\n",
       "      <td>CA</td>\n",
       "      <td>January</td>\n",
       "      <td>California</td>\n",
       "      <td>8330</td>\n",
       "    </tr>\n",
       "    <tr>\n",
       "      <th>9</th>\n",
       "      <td>November</td>\n",
       "      <td>CA</td>\n",
       "      <td>55.946296</td>\n",
       "      <td>California</td>\n",
       "      <td>CA</td>\n",
       "      <td>November</td>\n",
       "      <td>California</td>\n",
       "      <td>7830</td>\n",
       "    </tr>\n",
       "    <tr>\n",
       "      <th>3</th>\n",
       "      <td>February</td>\n",
       "      <td>CA</td>\n",
       "      <td>57.331176</td>\n",
       "      <td>California</td>\n",
       "      <td>CA</td>\n",
       "      <td>February</td>\n",
       "      <td>California</td>\n",
       "      <td>7189</td>\n",
       "    </tr>\n",
       "    <tr>\n",
       "      <th>7</th>\n",
       "      <td>March</td>\n",
       "      <td>CA</td>\n",
       "      <td>59.443114</td>\n",
       "      <td>California</td>\n",
       "      <td>CA</td>\n",
       "      <td>March</td>\n",
       "      <td>California</td>\n",
       "      <td>7882</td>\n",
       "    </tr>\n",
       "  </tbody>\n",
       "</table>\n",
       "</div>"
      ],
      "text/plain": [
       "  YearMonth State_x    AvgTemp     State_y Abbreviation     Month       State  \\\n",
       "2  December      CA  48.891358  California           CA  December  California   \n",
       "4   January      CA  52.307362  California           CA   January  California   \n",
       "9  November      CA  55.946296  California           CA  November  California   \n",
       "3  February      CA  57.331176  California           CA  February  California   \n",
       "7     March      CA  59.443114  California           CA     March  California   \n",
       "\n",
       "   number of incidents  \n",
       "2                 8433  \n",
       "4                 8330  \n",
       "9                 7830  \n",
       "3                 7189  \n",
       "7                 7882  "
      ]
     },
     "execution_count": 11,
     "metadata": {},
     "output_type": "execute_result"
    }
   ],
   "source": [
    "cali_final = pd.merge(final_temp_df,cali_df, how = 'inner',left_on=['YearMonth','State_y'],right_on=['Month','State'])\n",
    "TX_final = pd.merge(final_temp_df,texas_df, how = 'inner',left_on=['YearMonth','State_y'],right_on=['Month','State'])\n",
    "NY_final = pd.merge(final_temp_df,ny_df, how = 'inner',left_on=['YearMonth','State_y'],right_on=['Month','State'])\n",
    "FL_final = pd.merge(final_temp_df,florida_df, how = 'inner',left_on=['YearMonth','State_y'],right_on=['Month','State'])\n",
    "IL_final = pd.merge(final_temp_df,chicago_df, how = 'inner',left_on=['YearMonth','State_y'],right_on=['Month','State'])\n",
    "LA_final = pd.merge(final_temp_df,louisiana_df, how = 'inner',left_on=['YearMonth','State_y'],right_on=['Month','State'])\n",
    "MASS_final = pd.merge(final_temp_df,mass_df, how = 'inner',left_on=['YearMonth','State_y'],right_on=['Month','State'])\n",
    "\n",
    "\n",
    "cali_final = cali_final.sort(['AvgTemp'],ascending=[1])\n",
    "NY_final = NY_final.sort(['AvgTemp'],ascending=[1])\n",
    "cali_final.head(5)"
   ]
  },
  {
   "cell_type": "code",
   "execution_count": 12,
   "metadata": {
    "collapsed": false
   },
   "outputs": [
    {
     "data": {
      "text/plain": [
       "[<matplotlib.text.Text at 0x212442faac8>,\n",
       " <matplotlib.text.Text at 0x212442f7cf8>,\n",
       " <matplotlib.text.Text at 0x2124491f908>,\n",
       " <matplotlib.text.Text at 0x21244922358>,\n",
       " <matplotlib.text.Text at 0x21244922e48>,\n",
       " <matplotlib.text.Text at 0x21244926978>,\n",
       " <matplotlib.text.Text at 0x2124492a4a8>,\n",
       " <matplotlib.text.Text at 0x2124492af98>,\n",
       " <matplotlib.text.Text at 0x2124492eac8>,\n",
       " <matplotlib.text.Text at 0x212449335f8>,\n",
       " <matplotlib.text.Text at 0x21244936128>,\n",
       " <matplotlib.text.Text at 0x21244936c18>]"
      ]
     },
     "execution_count": 12,
     "metadata": {},
     "output_type": "execute_result"
    },
    {
     "data": {
      "image/png": "[encoded data removed]",
      "text/plain": [
       "<matplotlib.figure.Figure at 0x2123f68c470>"
      ]
     },
     "metadata": {},
     "output_type": "display_data"
    }
   ],
   "source": [
    "ax1 = sns.pointplot(x=\"AvgTemp\", y=\"number of incidents\", hue=\"Month\",data=cali_final)\n",
    "ax1.set_xticklabels(cali_final[\"AvgTemp\"], rotation=90)"
   ]
  },
  {
   "cell_type": "code",
   "execution_count": 15,
   "metadata": {
    "collapsed": false
   },
   "outputs": [
    {
     "data": {
      "text/html": [
       "<div>\n",
       "<table border=\"1\" class=\"dataframe\">\n",
       "  <thead>\n",
       "    <tr style=\"text-align: right;\">\n",
       "      <th></th>\n",
       "      <th>YearMonth</th>\n",
       "      <th>State_x</th>\n",
       "      <th>AvgTemp</th>\n",
       "      <th>State_y</th>\n",
       "      <th>Abbreviation</th>\n",
       "      <th>Month</th>\n",
       "      <th>State</th>\n",
       "      <th>number of incidents</th>\n",
       "    </tr>\n",
       "  </thead>\n",
       "  <tbody>\n",
       "    <tr>\n",
       "      <th>3</th>\n",
       "      <td>February</td>\n",
       "      <td>NY</td>\n",
       "      <td>22.177049</td>\n",
       "      <td>New York</td>\n",
       "      <td>NY</td>\n",
       "      <td>February</td>\n",
       "      <td>New York</td>\n",
       "      <td>3670</td>\n",
       "    </tr>\n",
       "    <tr>\n",
       "      <th>4</th>\n",
       "      <td>January</td>\n",
       "      <td>NY</td>\n",
       "      <td>24.713559</td>\n",
       "      <td>New York</td>\n",
       "      <td>NY</td>\n",
       "      <td>January</td>\n",
       "      <td>New York</td>\n",
       "      <td>4137</td>\n",
       "    </tr>\n",
       "    <tr>\n",
       "      <th>7</th>\n",
       "      <td>March</td>\n",
       "      <td>NY</td>\n",
       "      <td>35.780000</td>\n",
       "      <td>New York</td>\n",
       "      <td>NY</td>\n",
       "      <td>March</td>\n",
       "      <td>New York</td>\n",
       "      <td>4079</td>\n",
       "    </tr>\n",
       "    <tr>\n",
       "      <th>2</th>\n",
       "      <td>December</td>\n",
       "      <td>NY</td>\n",
       "      <td>43.151613</td>\n",
       "      <td>New York</td>\n",
       "      <td>NY</td>\n",
       "      <td>December</td>\n",
       "      <td>New York</td>\n",
       "      <td>3213</td>\n",
       "    </tr>\n",
       "    <tr>\n",
       "      <th>9</th>\n",
       "      <td>November</td>\n",
       "      <td>NY</td>\n",
       "      <td>44.985484</td>\n",
       "      <td>New York</td>\n",
       "      <td>NY</td>\n",
       "      <td>November</td>\n",
       "      <td>New York</td>\n",
       "      <td>3619</td>\n",
       "    </tr>\n",
       "  </tbody>\n",
       "</table>\n",
       "</div>"
      ],
      "text/plain": [
       "  YearMonth State_x    AvgTemp   State_y Abbreviation     Month     State  \\\n",
       "3  February      NY  22.177049  New York           NY  February  New York   \n",
       "4   January      NY  24.713559  New York           NY   January  New York   \n",
       "7     March      NY  35.780000  New York           NY     March  New York   \n",
       "2  December      NY  43.151613  New York           NY  December  New York   \n",
       "9  November      NY  44.985484  New York           NY  November  New York   \n",
       "\n",
       "   number of incidents  \n",
       "3                 3670  \n",
       "4                 4137  \n",
       "7                 4079  \n",
       "2                 3213  \n",
       "9                 3619  "
      ]
     },
     "execution_count": 15,
     "metadata": {},
     "output_type": "execute_result"
    }
   ],
   "source": [
    "NY_final.head()"
   ]
  },
  {
   "cell_type": "code",
   "execution_count": null,
   "metadata": {
    "collapsed": true
   },
   "outputs": [],
   "source": []
  },
  {
   "cell_type": "code",
   "execution_count": 19,
   "metadata": {
    "collapsed": false
   },
   "outputs": [
    {
     "data": {
      "text/plain": [
       "[<matplotlib.text.Text at 0x212461d20b8>,\n",
       " <matplotlib.text.Text at 0x212461bb0b8>,\n",
       " <matplotlib.text.Text at 0x21246540898>,\n",
       " <matplotlib.text.Text at 0x212465433c8>,\n",
       " <matplotlib.text.Text at 0x21246543eb8>,\n",
       " <matplotlib.text.Text at 0x212465489e8>,\n",
       " <matplotlib.text.Text at 0x2124654c518>,\n",
       " <matplotlib.text.Text at 0x21246550048>,\n",
       " <matplotlib.text.Text at 0x21246550b38>,\n",
       " <matplotlib.text.Text at 0x21246554588>,\n",
       " <matplotlib.text.Text at 0x212465570b8>,\n",
       " <matplotlib.text.Text at 0x21246557ba8>]"
      ]
     },
     "execution_count": 19,
     "metadata": {},
     "output_type": "execute_result"
    },
    {
     "data": {
      "image/png": "[encoded data removed]",
      "text/plain": [
       "<matplotlib.figure.Figure at 0x21245ed4e80>"
      ]
     },
     "metadata": {},
     "output_type": "display_data"
    }
   ],
   "source": [
    "ax1 = sns.pointplot(x=\"AvgTemp\", y=\"number of incidents\", hue=\"Month\",data=NY_final)\n",
    "ax1.set_xticklabels(NY_final[\"AvgTemp\"], rotation=90)"
   ]
  },
  {
   "cell_type": "code",
   "execution_count": null,
   "metadata": {
    "collapsed": true
   },
   "outputs": [],
   "source": []
  }
 ],
 "metadata": {
  "anaconda-cloud": {},
  "kernelspec": {
   "display_name": "Python [conda root]",
   "language": "python",
   "name": "conda-root-py"
  },
  "language_info": {
   "codemirror_mode": {
    "name": "ipython",
    "version": 3
   },
   "file_extension": ".py",
   "mimetype": "text/x-python",
   "name": "python",
   "nbconvert_exporter": "python",
   "pygments_lexer": "ipython3",
   "version": "3.5.2"
  }
 },
 "nbformat": 4,
 "nbformat_minor": 1
}
